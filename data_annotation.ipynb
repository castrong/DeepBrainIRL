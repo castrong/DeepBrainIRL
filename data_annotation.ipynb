{
 "cells": [
  {
   "cell_type": "code",
   "execution_count": 1,
   "metadata": {},
   "outputs": [],
   "source": [
    "import numpy as np"
   ]
  },
  {
   "cell_type": "code",
   "execution_count": 29,
   "metadata": {},
   "outputs": [],
   "source": [
    "# Run 0 from sp_20210126. 13-52-24\n",
    "sp_20210126_13_52_24_timestamps = [122, 188.5, 193.5, 283, 358, 370, 411, 443, 501, 534.5, 546, 560, 564, 573, 584, 588, 594, 600, 603.5, 625, 658, 698.5, 702.5, 725]\n",
    "# For 534.5 it's both a turn and transition.\n",
    "sp_20210126_13_52_24_labels = ['straight', 'turning', 'straight', 'dirt', 'transition', 'dirt', 'transition', 'dirt', 'straight', 'transition', 'straight', 'turning', 'straight', 'transition', 'straight', 'turning', 'straight', 'turning', 'straight', 'transition', 'straight', 'turning', 'straight']\n",
    "sp_20210126_13_52_24_filename = '20210126SP_13-52-24_scenario_labels.npz'"
   ]
  },
  {
   "cell_type": "code",
   "execution_count": 44,
   "metadata": {},
   "outputs": [],
   "source": [
    "# Run 1 from sp_20210126. 14-08-22\n",
    "# 6:46 hits a car that spawns right in front. \n",
    "# 7:37 wasn't sure whether turn or sraight bc road just turns. 9:43 as well. Notated as turns.  \n",
    "sp_20210126_14_08_22_timestamps = [101, 130, 150, 166, 182, 187.5, 198, 201, 208, 217, 250, 306, 319, 380, 382.5, 404, 457, 463, 495, 516, 539, 563, 583, 588, 635.5, 648, 650, 654, 697.5, 707]\n",
    "# For 534.5 it's both a turn and transition.\n",
    "sp_20210126_14_08_22_labels = ['transition', 'straight', 'turning', 'transition', 'turning', 'straight', 'turning', 'straight', 'turning', 'straight', 'dirt', 'transition', 'dirt', 'straight', 'transition', 'straight', 'turning', 'straight', 'dirt', 'transition', 'dirt', 'straight', 'turning', 'straight', 'transition', 'straight', 'turning', 'straight', 'turning']\n",
    "sp_20210126_14_08_22_filename = '20210126SP_14-08-22_scenario_labels.npz'"
   ]
  },
  {
   "cell_type": "code",
   "execution_count": 59,
   "metadata": {},
   "outputs": [],
   "source": [
    "# 6:37 they seemed to go the wrong way. marked it down as still dirt. \n",
    "# 10:25 car spawned and hit it again, it was the VW van again xD. \n",
    "# 11:20 another car spawns and they hit it\n",
    "sp_20210126_14_23_30_timestamps = [114, 130, 151.5, 155, 181, 185, 251, 255, 283.5, 325, 335, 352, 369, 400, 402.5, 428, 432, 448, 463, 549, 552, 588.5, 619, 666, 670.5, 695, 720]\n",
    "sp_20210126_14_23_30_labels = ['transition', 'straight', 'turning', 'transition', 'turning', 'straight', 'turning', 'straight', 'dirt', 'transition', 'dirt', 'transition', 'dirt', 'turning', 'straight', 'turning', 'straight', 'transition', 'straight', 'turning', 'straight', 'transition', 'straight', 'turning', 'straight', 'transition']\n",
    "sp_20210126_14_23_30_filename = '20210126SP_14-23-30_scenario_labels.npz'"
   ]
  },
  {
   "cell_type": "code",
   "execution_count": 62,
   "metadata": {},
   "outputs": [
    {
     "name": "stdout",
     "output_type": "stream",
     "text": [
      "2: len timestamps:  27\n",
      "2: len labels:  26\n",
      "1: len timestamps:  30\n",
      "1: len labels:  29\n",
      "0: len timestamps:  24\n",
      "0: len labels:  23\n"
     ]
    }
   ],
   "source": [
    "print(\"2: len timestamps: \", len(sp_20210126_14_23_30_timestamps))\n",
    "print(\"2: len labels: \", len(sp_20210126_14_23_30_labels))\n",
    "\n",
    "print(\"1: len timestamps: \", len(sp_20210126_14_08_22_timestamps))\n",
    "print(\"1: len labels: \", len(sp_20210126_14_08_22_labels))\n",
    "\n",
    "print(\"0: len timestamps: \", len(sp_20210126_13_52_24_timestamps))\n",
    "print(\"0: len labels: \", len(sp_20210126_13_52_24_labels))"
   ]
  },
  {
   "cell_type": "markdown",
   "metadata": {},
   "source": []
  },
  {
   "cell_type": "code",
   "execution_count": null,
   "metadata": {},
   "outputs": [],
   "source": []
  },
  {
   "attachments": {},
   "cell_type": "markdown",
   "metadata": {},
   "source": [
    "Now that we've labeled them all, let's output them as .npy files. "
   ]
  },
  {
   "cell_type": "code",
   "execution_count": 64,
   "metadata": {},
   "outputs": [],
   "source": [
    "all_timestamps = [sp_20210126_13_52_24_timestamps, sp_20210126_14_08_22_timestamps, sp_20210126_14_23_30_timestamps]\n",
    "all_labels = [sp_20210126_13_52_24_labels, sp_20210126_14_08_22_labels, sp_20210126_14_23_30_labels]\n",
    "all_filenames = [sp_20210126_13_52_24_filename, sp_20210126_14_08_22_filename, sp_20210126_14_23_30_filename]\n",
    "\n",
    "for (timestamps, labels, filename) in zip(all_timestamps, all_labels, all_filenames):\n",
    "    np.savez(filename, timestamps=timestamps, labels=labels)"
   ]
  },
  {
   "cell_type": "code",
   "execution_count": null,
   "metadata": {},
   "outputs": [],
   "source": []
  },
  {
   "cell_type": "code",
   "execution_count": null,
   "metadata": {},
   "outputs": [],
   "source": []
  }
 ],
 "metadata": {
  "kernelspec": {
   "display_name": "HRIFinalProject",
   "language": "python",
   "name": "python3"
  },
  "language_info": {
   "codemirror_mode": {
    "name": "ipython",
    "version": 3
   },
   "file_extension": ".py",
   "mimetype": "text/x-python",
   "name": "python",
   "nbconvert_exporter": "python",
   "pygments_lexer": "ipython3",
   "version": "3.9.16"
  },
  "orig_nbformat": 4
 },
 "nbformat": 4,
 "nbformat_minor": 2
}
